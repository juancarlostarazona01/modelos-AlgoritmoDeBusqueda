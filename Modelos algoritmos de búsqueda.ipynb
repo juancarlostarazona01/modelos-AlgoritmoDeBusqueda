{
  "nbformat": 4,
  "nbformat_minor": 0,
  "metadata": {
    "colab": {
      "provenance": []
    },
    "kernelspec": {
      "name": "python3",
      "display_name": "Python 3"
    },
    "widgets": {
      "application/vnd.jupyter.widget-state+json": {
        "d1bbf49aa1a2490789013cef82c24f5b": {
          "model_module": "@jupyter-widgets/controls",
          "model_name": "HTMLModel",
          "model_module_version": "1.5.0",
          "state": {
            "_dom_classes": [],
            "_model_module": "@jupyter-widgets/controls",
            "_model_module_version": "1.5.0",
            "_model_name": "HTMLModel",
            "_view_count": null,
            "_view_module": "@jupyter-widgets/controls",
            "_view_module_version": "1.5.0",
            "_view_name": "HTMLView",
            "description": "",
            "description_tooltip": null,
            "layout": "IPY_MODEL_19cb4c679b0d4b7c849829404e79b1cb",
            "placeholder": "​",
            "style": "IPY_MODEL_1bdbd951048b489d8ebd054dc0198ee1",
            "value": "<table border='1'><tr><td style='height:40px;width:40px'><div style='transform: rotate(0deg);font-size:35px;'>🟩</div></td><td style='height:40px;width:40px'><div style='transform: rotate(0deg);font-size:35px;'>🟩</div></td><td style='height:40px;width:40px'><div style='transform: rotate(0deg);font-size:35px;'>🟩</div></td><td style='height:40px;width:40px'><div style='transform: rotate(0deg);font-size:35px;'>🏃</div></td><td style='height:40px;width:40px'><div style='transform: rotate(0deg);font-size:35px;'>🟩</div></td><td style='height:40px;width:40px'><div style='transform: rotate(0deg);font-size:35px;'>🏃</div></td></tr><tr><td style='height:40px;width:40px'><div style='transform: rotate(0deg);font-size:35px;'>⬜</div></td><td style='height:40px;width:40px'><div style='transform: rotate(0deg);font-size:35px;'>🏃</div></td><td style='height:40px;width:40px'><div style='transform: rotate(0deg);font-size:35px;'>🟩</div></td><td style='height:40px;width:40px'><div style='transform: rotate(0deg);font-size:35px;'>🟩</div></td><td style='height:40px;width:40px'><div style='transform: rotate(0deg);font-size:35px;'>🟩</div></td><td style='height:40px;width:40px'><div style='transform: rotate(0deg);font-size:35px;'>🟩</div></td></tr><tr><td style='height:40px;width:40px'><div style='transform: rotate(0deg);font-size:35px;'>⬜</div></td><td style='height:40px;width:40px'><div style='transform: rotate(0deg);font-size:35px;'>⬜</div></td><td style='height:40px;width:40px'><div style='transform: rotate(0deg);font-size:35px;'>⬜</div></td><td style='height:40px;width:40px'><div style='transform: rotate(0deg);font-size:35px;'>⬜</div></td><td style='height:40px;width:40px'><div style='transform: rotate(0deg);font-size:35px;'>🏃</div></td><td style='height:40px;width:40px'><div style='transform: rotate(0deg);font-size:35px;'>🟩</div></td></tr><tr><td style='height:40px;width:40px'><div style='transform: rotate(0deg);font-size:35px;'>⬜</div></td><td style='height:40px;width:40px'><div style='transform: rotate(0deg);font-size:35px;'>⬜</div></td><td style='height:40px;width:40px'><div style='transform: rotate(0deg);font-size:35px;'>🏃</div></td><td style='height:40px;width:40px'><div style='transform: rotate(0deg);font-size:35px;'>🏃</div></td><td style='height:40px;width:40px'><div style='transform: rotate(0deg);font-size:35px;'>⬜</div></td><td style='height:40px;width:40px'><div style='transform: rotate(0deg);font-size:35px;'>🟩</div></td></tr><tr><td style='height:40px;width:40px'><div style='transform: rotate(0deg);font-size:35px;'>🏃</div></td><td style='height:40px;width:40px'><div style='transform: rotate(0deg);font-size:35px;'>⬜</div></td><td style='height:40px;width:40px'><div style='transform: rotate(0deg);font-size:35px;'>🏃</div></td><td style='height:40px;width:40px'><div style='transform: rotate(0deg);font-size:35px;'>⬜</div></td><td style='height:40px;width:40px'><div style='transform: rotate(0deg);font-size:35px;'>🏃</div></td><td style='height:40px;width:40px'><div style='transform: rotate(0deg);font-size:35px;'>🟩</div></td></tr><tr><td style='height:40px;width:40px'><div style='transform: rotate(0deg);font-size:35px;'>⬜</div></td><td style='height:40px;width:40px'><div style='transform: rotate(0deg);font-size:35px;'>⬜</div></td><td style='height:40px;width:40px'><div style='transform: rotate(0deg);font-size:35px;'>⬜</div></td><td style='height:40px;width:40px'><div style='transform: rotate(0deg);font-size:35px;'>⬜</div></td><td style='height:40px;width:40px'><div style='transform: rotate(0deg);font-size:35px;'>⬜</div></td><td style='height:40px;width:40px'><div style='transform: rotate(0deg);font-size:35px;'>🟩</div></td></tr></table>"
          }
        },
        "19cb4c679b0d4b7c849829404e79b1cb": {
          "model_module": "@jupyter-widgets/base",
          "model_name": "LayoutModel",
          "model_module_version": "1.2.0",
          "state": {
            "_model_module": "@jupyter-widgets/base",
            "_model_module_version": "1.2.0",
            "_model_name": "LayoutModel",
            "_view_count": null,
            "_view_module": "@jupyter-widgets/base",
            "_view_module_version": "1.2.0",
            "_view_name": "LayoutView",
            "align_content": null,
            "align_items": null,
            "align_self": null,
            "border": null,
            "bottom": null,
            "display": null,
            "flex": null,
            "flex_flow": null,
            "grid_area": null,
            "grid_auto_columns": null,
            "grid_auto_flow": null,
            "grid_auto_rows": null,
            "grid_column": null,
            "grid_gap": null,
            "grid_row": null,
            "grid_template_areas": null,
            "grid_template_columns": null,
            "grid_template_rows": null,
            "height": null,
            "justify_content": null,
            "justify_items": null,
            "left": null,
            "margin": null,
            "max_height": null,
            "max_width": null,
            "min_height": null,
            "min_width": null,
            "object_fit": null,
            "object_position": null,
            "order": null,
            "overflow": null,
            "overflow_x": null,
            "overflow_y": null,
            "padding": null,
            "right": null,
            "top": null,
            "visibility": null,
            "width": null
          }
        },
        "1bdbd951048b489d8ebd054dc0198ee1": {
          "model_module": "@jupyter-widgets/controls",
          "model_name": "DescriptionStyleModel",
          "model_module_version": "1.5.0",
          "state": {
            "_model_module": "@jupyter-widgets/controls",
            "_model_module_version": "1.5.0",
            "_model_name": "DescriptionStyleModel",
            "_view_count": null,
            "_view_module": "@jupyter-widgets/base",
            "_view_module_version": "1.2.0",
            "_view_name": "StyleView",
            "description_width": ""
          }
        },
        "4659ed8932034a26a20c98b9275fe4b5": {
          "model_module": "@jupyter-widgets/controls",
          "model_name": "HTMLModel",
          "model_module_version": "1.5.0",
          "state": {
            "_dom_classes": [],
            "_model_module": "@jupyter-widgets/controls",
            "_model_module_version": "1.5.0",
            "_model_name": "HTMLModel",
            "_view_count": null,
            "_view_module": "@jupyter-widgets/controls",
            "_view_module_version": "1.5.0",
            "_view_name": "HTMLView",
            "description": "",
            "description_tooltip": null,
            "layout": "IPY_MODEL_2d646f63e3864141bf807c5865f3d560",
            "placeholder": "​",
            "style": "IPY_MODEL_ae5829a8d46a443ba9780d0c89afe380",
            "value": "<table border='1'><tr><td style='height:40px;width:40px'><div style='transform: rotate(0deg);font-size:35px;'>🟩</div></td><td style='height:40px;width:40px'><div style='transform: rotate(0deg);font-size:35px;'>🟩</div></td><td style='height:40px;width:40px'><div style='transform: rotate(0deg);font-size:35px;'>⬜</div></td><td style='height:40px;width:40px'><div style='transform: rotate(0deg);font-size:35px;'>🏃</div></td><td style='height:40px;width:40px'><div style='transform: rotate(0deg);font-size:35px;'>⬜</div></td><td style='height:40px;width:40px'><div style='transform: rotate(0deg);font-size:35px;'>🏃</div></td></tr><tr><td style='height:40px;width:40px'><div style='transform: rotate(0deg);font-size:35px;'>⬜</div></td><td style='height:40px;width:40px'><div style='transform: rotate(0deg);font-size:35px;'>🏃</div></td><td style='height:40px;width:40px'><div style='transform: rotate(0deg);font-size:35px;'>🟩</div></td><td style='height:40px;width:40px'><div style='transform: rotate(0deg);font-size:35px;'>⬜</div></td><td style='height:40px;width:40px'><div style='transform: rotate(0deg);font-size:35px;'>⬜</div></td><td style='height:40px;width:40px'><div style='transform: rotate(0deg);font-size:35px;'>⬜</div></td></tr><tr><td style='height:40px;width:40px'><div style='transform: rotate(0deg);font-size:35px;'>⬜</div></td><td style='height:40px;width:40px'><div style='transform: rotate(0deg);font-size:35px;'>⬜</div></td><td style='height:40px;width:40px'><div style='transform: rotate(0deg);font-size:35px;'>⬜</div></td><td style='height:40px;width:40px'><div style='transform: rotate(0deg);font-size:35px;'>🟩</div></td><td style='height:40px;width:40px'><div style='transform: rotate(0deg);font-size:35px;'>🏃</div></td><td style='height:40px;width:40px'><div style='transform: rotate(0deg);font-size:35px;'>⬜</div></td></tr><tr><td style='height:40px;width:40px'><div style='transform: rotate(0deg);font-size:35px;'>⬜</div></td><td style='height:40px;width:40px'><div style='transform: rotate(0deg);font-size:35px;'>⬜</div></td><td style='height:40px;width:40px'><div style='transform: rotate(0deg);font-size:35px;'>🏃</div></td><td style='height:40px;width:40px'><div style='transform: rotate(0deg);font-size:35px;'>🏃</div></td><td style='height:40px;width:40px'><div style='transform: rotate(0deg);font-size:35px;'>🟩</div></td><td style='height:40px;width:40px'><div style='transform: rotate(0deg);font-size:35px;'>⬜</div></td></tr><tr><td style='height:40px;width:40px'><div style='transform: rotate(0deg);font-size:35px;'>🏃</div></td><td style='height:40px;width:40px'><div style='transform: rotate(0deg);font-size:35px;'>⬜</div></td><td style='height:40px;width:40px'><div style='transform: rotate(0deg);font-size:35px;'>🏃</div></td><td style='height:40px;width:40px'><div style='transform: rotate(0deg);font-size:35px;'>⬜</div></td><td style='height:40px;width:40px'><div style='transform: rotate(0deg);font-size:35px;'>🏃</div></td><td style='height:40px;width:40px'><div style='transform: rotate(0deg);font-size:35px;'>🟩</div></td></tr><tr><td style='height:40px;width:40px'><div style='transform: rotate(0deg);font-size:35px;'>⬜</div></td><td style='height:40px;width:40px'><div style='transform: rotate(0deg);font-size:35px;'>⬜</div></td><td style='height:40px;width:40px'><div style='transform: rotate(0deg);font-size:35px;'>⬜</div></td><td style='height:40px;width:40px'><div style='transform: rotate(0deg);font-size:35px;'>⬜</div></td><td style='height:40px;width:40px'><div style='transform: rotate(0deg);font-size:35px;'>⬜</div></td><td style='height:40px;width:40px'><div style='transform: rotate(0deg);font-size:35px;'>🟩</div></td></tr></table>"
          }
        },
        "2d646f63e3864141bf807c5865f3d560": {
          "model_module": "@jupyter-widgets/base",
          "model_name": "LayoutModel",
          "model_module_version": "1.2.0",
          "state": {
            "_model_module": "@jupyter-widgets/base",
            "_model_module_version": "1.2.0",
            "_model_name": "LayoutModel",
            "_view_count": null,
            "_view_module": "@jupyter-widgets/base",
            "_view_module_version": "1.2.0",
            "_view_name": "LayoutView",
            "align_content": null,
            "align_items": null,
            "align_self": null,
            "border": null,
            "bottom": null,
            "display": null,
            "flex": null,
            "flex_flow": null,
            "grid_area": null,
            "grid_auto_columns": null,
            "grid_auto_flow": null,
            "grid_auto_rows": null,
            "grid_column": null,
            "grid_gap": null,
            "grid_row": null,
            "grid_template_areas": null,
            "grid_template_columns": null,
            "grid_template_rows": null,
            "height": null,
            "justify_content": null,
            "justify_items": null,
            "left": null,
            "margin": null,
            "max_height": null,
            "max_width": null,
            "min_height": null,
            "min_width": null,
            "object_fit": null,
            "object_position": null,
            "order": null,
            "overflow": null,
            "overflow_x": null,
            "overflow_y": null,
            "padding": null,
            "right": null,
            "top": null,
            "visibility": null,
            "width": null
          }
        },
        "ae5829a8d46a443ba9780d0c89afe380": {
          "model_module": "@jupyter-widgets/controls",
          "model_name": "DescriptionStyleModel",
          "model_module_version": "1.5.0",
          "state": {
            "_model_module": "@jupyter-widgets/controls",
            "_model_module_version": "1.5.0",
            "_model_name": "DescriptionStyleModel",
            "_view_count": null,
            "_view_module": "@jupyter-widgets/base",
            "_view_module_version": "1.2.0",
            "_view_name": "StyleView",
            "description_width": ""
          }
        },
        "d1113ceae2a14ff4808daf364f8d90fb": {
          "model_module": "@jupyter-widgets/controls",
          "model_name": "HTMLModel",
          "model_module_version": "1.5.0",
          "state": {
            "_dom_classes": [],
            "_model_module": "@jupyter-widgets/controls",
            "_model_module_version": "1.5.0",
            "_model_name": "HTMLModel",
            "_view_count": null,
            "_view_module": "@jupyter-widgets/controls",
            "_view_module_version": "1.5.0",
            "_view_name": "HTMLView",
            "description": "",
            "description_tooltip": null,
            "layout": "IPY_MODEL_0aa6837019e2440888d7d986c4ffdc93",
            "placeholder": "​",
            "style": "IPY_MODEL_df3f9c2cba654abca7fb7cbc64431143",
            "value": "<table border='1'><tr><td style='height:40px;width:40px'><div style='transform: rotate(0deg);font-size:35px;'>🟩</div></td><td style='height:40px;width:40px'><div style='transform: rotate(0deg);font-size:35px;'>🟩</div></td><td style='height:40px;width:40px'><div style='transform: rotate(0deg);font-size:35px;'>⬜</div></td><td style='height:40px;width:40px'><div style='transform: rotate(0deg);font-size:35px;'>🏃</div></td><td style='height:40px;width:40px'><div style='transform: rotate(0deg);font-size:35px;'>⬜</div></td><td style='height:40px;width:40px'><div style='transform: rotate(0deg);font-size:35px;'>🏃</div></td></tr><tr><td style='height:40px;width:40px'><div style='transform: rotate(0deg);font-size:35px;'>⬜</div></td><td style='height:40px;width:40px'><div style='transform: rotate(0deg);font-size:35px;'>🏃</div></td><td style='height:40px;width:40px'><div style='transform: rotate(0deg);font-size:35px;'>🟩</div></td><td style='height:40px;width:40px'><div style='transform: rotate(0deg);font-size:35px;'>⬜</div></td><td style='height:40px;width:40px'><div style='transform: rotate(0deg);font-size:35px;'>⬜</div></td><td style='height:40px;width:40px'><div style='transform: rotate(0deg);font-size:35px;'>⬜</div></td></tr><tr><td style='height:40px;width:40px'><div style='transform: rotate(0deg);font-size:35px;'>⬜</div></td><td style='height:40px;width:40px'><div style='transform: rotate(0deg);font-size:35px;'>⬜</div></td><td style='height:40px;width:40px'><div style='transform: rotate(0deg);font-size:35px;'>⬜</div></td><td style='height:40px;width:40px'><div style='transform: rotate(0deg);font-size:35px;'>🟩</div></td><td style='height:40px;width:40px'><div style='transform: rotate(0deg);font-size:35px;'>🏃</div></td><td style='height:40px;width:40px'><div style='transform: rotate(0deg);font-size:35px;'>⬜</div></td></tr><tr><td style='height:40px;width:40px'><div style='transform: rotate(0deg);font-size:35px;'>⬜</div></td><td style='height:40px;width:40px'><div style='transform: rotate(0deg);font-size:35px;'>⬜</div></td><td style='height:40px;width:40px'><div style='transform: rotate(0deg);font-size:35px;'>🏃</div></td><td style='height:40px;width:40px'><div style='transform: rotate(0deg);font-size:35px;'>🏃</div></td><td style='height:40px;width:40px'><div style='transform: rotate(0deg);font-size:35px;'>🟩</div></td><td style='height:40px;width:40px'><div style='transform: rotate(0deg);font-size:35px;'>⬜</div></td></tr><tr><td style='height:40px;width:40px'><div style='transform: rotate(0deg);font-size:35px;'>🏃</div></td><td style='height:40px;width:40px'><div style='transform: rotate(0deg);font-size:35px;'>⬜</div></td><td style='height:40px;width:40px'><div style='transform: rotate(0deg);font-size:35px;'>🏃</div></td><td style='height:40px;width:40px'><div style='transform: rotate(0deg);font-size:35px;'>⬜</div></td><td style='height:40px;width:40px'><div style='transform: rotate(0deg);font-size:35px;'>🏃</div></td><td style='height:40px;width:40px'><div style='transform: rotate(0deg);font-size:35px;'>🟩</div></td></tr><tr><td style='height:40px;width:40px'><div style='transform: rotate(0deg);font-size:35px;'>⬜</div></td><td style='height:40px;width:40px'><div style='transform: rotate(0deg);font-size:35px;'>⬜</div></td><td style='height:40px;width:40px'><div style='transform: rotate(0deg);font-size:35px;'>⬜</div></td><td style='height:40px;width:40px'><div style='transform: rotate(0deg);font-size:35px;'>⬜</div></td><td style='height:40px;width:40px'><div style='transform: rotate(0deg);font-size:35px;'>⬜</div></td><td style='height:40px;width:40px'><div style='transform: rotate(0deg);font-size:35px;'>🟩</div></td></tr></table>"
          }
        },
        "0aa6837019e2440888d7d986c4ffdc93": {
          "model_module": "@jupyter-widgets/base",
          "model_name": "LayoutModel",
          "model_module_version": "1.2.0",
          "state": {
            "_model_module": "@jupyter-widgets/base",
            "_model_module_version": "1.2.0",
            "_model_name": "LayoutModel",
            "_view_count": null,
            "_view_module": "@jupyter-widgets/base",
            "_view_module_version": "1.2.0",
            "_view_name": "LayoutView",
            "align_content": null,
            "align_items": null,
            "align_self": null,
            "border": null,
            "bottom": null,
            "display": null,
            "flex": null,
            "flex_flow": null,
            "grid_area": null,
            "grid_auto_columns": null,
            "grid_auto_flow": null,
            "grid_auto_rows": null,
            "grid_column": null,
            "grid_gap": null,
            "grid_row": null,
            "grid_template_areas": null,
            "grid_template_columns": null,
            "grid_template_rows": null,
            "height": null,
            "justify_content": null,
            "justify_items": null,
            "left": null,
            "margin": null,
            "max_height": null,
            "max_width": null,
            "min_height": null,
            "min_width": null,
            "object_fit": null,
            "object_position": null,
            "order": null,
            "overflow": null,
            "overflow_x": null,
            "overflow_y": null,
            "padding": null,
            "right": null,
            "top": null,
            "visibility": null,
            "width": null
          }
        },
        "df3f9c2cba654abca7fb7cbc64431143": {
          "model_module": "@jupyter-widgets/controls",
          "model_name": "DescriptionStyleModel",
          "model_module_version": "1.5.0",
          "state": {
            "_model_module": "@jupyter-widgets/controls",
            "_model_module_version": "1.5.0",
            "_model_name": "DescriptionStyleModel",
            "_view_count": null,
            "_view_module": "@jupyter-widgets/base",
            "_view_module_version": "1.2.0",
            "_view_name": "StyleView",
            "description_width": ""
          }
        }
      }
    }
  },
  "cells": [
    {
      "cell_type": "markdown",
      "source": [
        "## __2. (1.5 Puntos) Un laberinto__\n",
        "\n",
        "Considere el problema de navegar en un laberinto que puede representarse como un arreglo bidimensional. En el laberinto existen algunas celdas que se consideran obstáculos y no es posible atravesarlas. Un agente que se encuentra en el laberinto puede moverse a cualquiera de las 8 celdas adyacentes siempre que la celda no sea un obstáculo y no esté por fuera de los límites del laberinto. En este caso, podemos representar la posición del agente como una coordenada $(x, y)$. Por ejemplo, la coordenada $(4,2$). Adicionalmente, las acciones pueden representarse como conjunto de parejas $(dx, dy)$ en el cual $dx$ representa la variación de la posición en $x$ y $dy$ representa la variación de la posición en $y$. Por ejemplo, $(0,-1)$ representa dejar la coordenada x tal como está y disminuir la actual coordenada en $y$ en una unidad. A continuación, se presenta el laberito en que se encuentra el agente:\n",
        "\n",
        "<center>\n",
        "\n",
        "![imagen.png](data:image/png;base64,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)\n",
        "\n",
        "</center>\n",
        "Para este problema:\n",
        "\n",
        "* Modele este problema como un problema de búsqueda\n",
        "* Implemente los algoritmos de búsquea UCS, Voraz y A* utilizando la distancia euclidiana como heurística y suponiendo que todos los movimientos cuestan 1 unidad.\n",
        "* Compare la cantidad de nodos expandidos por UCS, Voraz y A*\n",
        "* Construya una visualización para el laberinto, los obstaculos y la ruta encontrada. __Sugerencia__: Una forma de lograr esto es utilizar un mapa de calor."
      ],
      "metadata": {
        "id": "blGgLyZiy8CJ"
      }
    },
    {
      "cell_type": "code",
      "metadata": {
        "id": "nLz_jtogo8cw"
      },
      "source": [
        "\n",
        "from IPython.display import display\n",
        "import ipywidgets as widgets\n",
        "import time\n",
        "import random\n",
        "import math\n",
        "from collections import defaultdict\n",
        "import requests\n",
        "\n",
        "# Clase para almacenar y dibujar el laberinto en un tablero\n",
        "class Laberinto:\n",
        "  # Inicializa los atributos básicos del laberinto\n",
        "  def __init__(self, tamanoCelda=(40, 40), nCeldas=(6,6), filas=[]):\n",
        "    self.out = widgets.HTML()\n",
        "    display(self.out)\n",
        "    self.tamanoCelda = tamanoCelda\n",
        "    self.nCeldas = nCeldas\n",
        "    self.filas = filas\n",
        "    self.ruta = []\n",
        "\n",
        "  # Con ayuda de los módulos imprime el estado del laberinto\n",
        "  def dibujar(self, agente):\n",
        "    tablero = \"<table border='1'>{}</table>\"\n",
        "    fila = \"\"\n",
        "    for i in range(self.nCeldas[0]):\n",
        "      s = \"\"\n",
        "      for j in range(self.nCeldas[1]):\n",
        "        if (i,j) in self.ruta: # Si ya pasó por el lugar deja un rastro\n",
        "            contenido = f\"<div style='transform: rotate(0deg);font-size:35px;'>🟩</div>\"\n",
        "        elif (i,j) == agente: # Si el agente está en la casilla imprime el agente\n",
        "            contenido = f\"<div style='transform: rotate(0deg);font-size:35px;'>⚽</div>\"\n",
        "            self.ruta.append((i,j))\n",
        "        elif self.filas[i][j] == \"0\": # Indica un camino libre\n",
        "            contenido = f\"<div style='transform: rotate(0deg);font-size:35px;'>⬜</div>\"\n",
        "        elif self.filas[i][j] == \"1\": # Indica un obstáculo\n",
        "            contenido = f\"<div style='transform: rotate(0deg);font-size:35px;'>🏃</div>\"\n",
        "        elif self.filas[i][j] == \"2\": # Indica la meta\n",
        "            contenido = f\"<div style='transform: rotate(deg);font-size:35px;'>🥅</div>\"\n",
        "\n",
        "        s += \"<td style='height:{alto}px;width:{ancho}px'>{contenido}</td>\".\\\n",
        "        format(alto=self.tamanoCelda[0], ancho=self.tamanoCelda[1],\n",
        "               contenido=contenido)\n",
        "      fila += \"<tr>{}</tr>\".format(s)\n",
        "    tablero = tablero.format(fila)\n",
        "    self.out.value=tablero\n",
        "\n"
      ],
      "execution_count": 2,
      "outputs": []
    },
    {
      "cell_type": "code",
      "metadata": {
        "id": "SzVSCOYTNGER"
      },
      "source": [
        "# Resuelve el laberinto utilizando DFS\n",
        "class SolucionLaberinto:\n",
        "    # Función para hallar la distancia por DFS\n",
        "   def encuentraDistancia(self, matriz, inicio):\n",
        "        #Inicializa variables para llamar a la función  laberinto DFS\n",
        "        self.ruta = math.inf# Inicia el costo de la ruta desde infinito\n",
        "        self.visitados = defaultdict(lambda: False) # Genera un arreglo con los lugares sin visitar\n",
        "        self.matriz = matriz\n",
        "        self.filas = len(matriz)\n",
        "        self.columnas = len(matriz[0])\n",
        "        self.laberintoUCS(inicio[0],inicio[1],0)\n",
        "        return self.visitados, self.ruta # Devuelve en una tupla la lista de visitados\n",
        "\n",
        "    #Función recursiva con el algoritmo búsqueda primero en profundidad\n",
        "   def laberintoUCS(self, i, j, pasos):\n",
        "        if i<0 or j<0 or i>=self.filas or j>=self.columnas: # Verifica que esté en el rango\n",
        "            return\n",
        "        elif self.matriz[i][j] == '1': # Esquiva el obstáculo\n",
        "            return\n",
        "        elif self.matriz[i][j] == '2': # Llega a la meta\n",
        "            self.ruta = min(self.ruta,pasos)\n",
        "            self.visitados[(i,j)]\n",
        "            return True\n",
        "        elif self.visitados[(i,j)]: # Verifica que ya haya sido visitado\n",
        "            return\n",
        "\n",
        "        self.visitados[(i,j)] = True #Marca el visitado\n",
        "\n",
        "        # Emplea la recursividad\n",
        "        self.laberintoUCS(i-1,j,pasos+1)\n",
        "        self.laberintoUCS(i,j-1,pasos+1)\n",
        "        self.laberintoUCS(i,j+1,pasos+1)\n",
        "        self.laberintoUCS(i+1,j,pasos+1)\n",
        "\n",
        "        return"
      ],
      "execution_count": 3,
      "outputs": []
    },
    {
      "cell_type": "code",
      "metadata": {
        "colab": {
          "base_uri": "https://localhost:8080/",
          "height": 318,
          "referenced_widgets": [
            "d1bbf49aa1a2490789013cef82c24f5b",
            "19cb4c679b0d4b7c849829404e79b1cb",
            "1bdbd951048b489d8ebd054dc0198ee1"
          ]
        },
        "id": "3HG3YuMal4iw",
        "outputId": "9fe72306-33f5-497d-da39-f252c619c722"
      },
      "source": [
        "# Desde un archivo en GITHUB recibe el contenido del laberinto\n",
        "url = \"https://raw.githubusercontent.com/juancarlostarazona/laberintoLab4/main/laberinto.txt\"\n",
        "page = requests.get(url)\n",
        "lineas = []\n",
        "\n",
        "# Genera un archivo txt temporal\n",
        "with open (\"/media/ArchivoLaberinto.txt\", \"w\") as file:\n",
        "  file.write(page.text)\n",
        "\n",
        "# Lee y le da valores al arreglo lineas\n",
        "with open (\"/media/ArchivoLaberinto.txt\") as file:\n",
        "  columna = []\n",
        "  for f in file:\n",
        "    for x in f:\n",
        "     if x == \"\\n\":\n",
        "       lineas.append(columna)\n",
        "       columna = []\n",
        "       continue\n",
        "     if x != \" \":\n",
        "       columna.append(x)\n",
        "\n",
        "# Crea una instancia tablero con la configuración inicial y una solucion\n",
        "tablero = Laberinto(filas = lineas)\n",
        "sol = SolucionLaberinto()\n",
        "# Recibe el resultado de la solucion del laberinto\n",
        "visitado, ruta = sol.encuentraDistancia(lineas,(5,5))\n",
        "\n",
        "# Imprime los visitados hasta llegar a la meta\n",
        "contador = 0\n",
        "\n",
        "for x in visitado:\n",
        "  tablero.dibujar(x)\n",
        "  if lineas[x[0]][x[1]] == '2':\n",
        "    time.sleep(1)\n",
        "    tablero.dibujar(x)\n",
        "    break\n",
        "  contador += 1\n",
        "  time.sleep(0.35)\n",
        "\n",
        "print(\"La ruta hallada por UCS tiene un coste de: \", ruta)\n"
      ],
      "execution_count": 4,
      "outputs": [
        {
          "output_type": "display_data",
          "data": {
            "text/plain": [
              "HTML(value='')"
            ],
            "application/vnd.jupyter.widget-view+json": {
              "version_major": 2,
              "version_minor": 0,
              "model_id": "d1bbf49aa1a2490789013cef82c24f5b"
            }
          },
          "metadata": {}
        },
        {
          "output_type": "stream",
          "name": "stdout",
          "text": [
            "La ruta hallada por UCS tiene un coste de:  10\n"
          ]
        }
      ]
    },
    {
      "cell_type": "code",
      "source": [
        "# Resuelve el laberinto utilizando DFS\n",
        "class SolucionLaberinto2:\n",
        "   def encuentraDistancia2(self, matriz, inicio):\n",
        "        #Inicializa variables para llamar a la función  laberinto DFS\n",
        "        self.ruta = math.inf # Inicia el costo de la ruta desde infinito\n",
        "        self.visitados = defaultdict(lambda: False) # Genera un arreglo con los lugares sin visitar\n",
        "        self.matriz = matriz\n",
        "        self.filas = len(matriz)\n",
        "        self.columnas = len(matriz[0])\n",
        "        self.laberintoVoraz(inicio[0],inicio[1],0)\n",
        "        return self.visitados, self.ruta # Devuelve en una tupla la lista de visitados\n",
        "\n",
        "   def laberintoVoraz(self, i, j, pasos):\n",
        "        if i<0 or j<0 or i>=self.filas or j>=self.columnas: # Verifica que esté en el rango\n",
        "            return\n",
        "        elif self.matriz[i][j] == '1': # Esquiva el obstáculo\n",
        "            return\n",
        "        elif self.matriz[i][j] == '2': # Llega a la meta\n",
        "            self.ruta = min(self.ruta,pasos)\n",
        "            self.visitados[(i,j)]\n",
        "            return True\n",
        "        elif self.visitados[(i,j)]: # Verifica que ya haya sido visitado\n",
        "            return\n",
        "\n",
        "        self.visitados[(i,j)] = True #Marca el visitado\n",
        "\n",
        "        # Emplea la recursividad\n",
        "        self.laberintoVoraz(i-1,j-1,pasos+1)\n",
        "        self.laberintoVoraz(i-1,j,pasos+1)\n",
        "        self.laberintoVoraz(i,j-1,pasos+1)\n",
        "        self.laberintoVoraz(i,j+1,pasos+1)\n",
        "        self.laberintoVoraz(i+1,j,pasos+1)\n",
        "\n",
        "        return"
      ],
      "metadata": {
        "id": "UCWDve48iJN9"
      },
      "execution_count": 5,
      "outputs": []
    },
    {
      "cell_type": "code",
      "source": [
        "# Desde un archivo en GITHUB recibe el contenido del laberinto\n",
        "url = \"https://raw.githubusercontent.com/juancarlostarazona/laberintoLab4/main/laberinto.txt\"\n",
        "page = requests.get(url)\n",
        "lineas = []\n",
        "\n",
        "# Genera un archivo txt temporal\n",
        "with open (\"/media/ArchivoLaberinto.txt\", \"w\") as file:\n",
        "  file.write(page.text)\n",
        "\n",
        "# Lee y le da valores al arreglo lineas\n",
        "with open (\"/media/ArchivoLaberinto.txt\") as file:\n",
        "  columna = []\n",
        "  for f in file:\n",
        "    for x in f:\n",
        "     if x == \"\\n\":\n",
        "       lineas.append(columna)\n",
        "       columna = []\n",
        "       continue\n",
        "     if x != \" \":\n",
        "       columna.append(x)\n",
        "\n",
        "# Crea una instancia tablero con la configuración inicial y una solucion\n",
        "tablero2 = Laberinto(filas = lineas)\n",
        "sol2 = SolucionLaberinto2()\n",
        "# Recibe el resultado de la solucion del laberinto\n",
        "visitado2, ruta2 = sol2.encuentraDistancia2(lineas,(5,5))\n",
        "\n",
        "# Imprime los visitados hasta llegar a la meta\n",
        "contador2 = 0\n",
        "\n",
        "for x in visitado2:\n",
        "  tablero2.dibujar(x)\n",
        "  if lineas[x[0]][x[1]] == '2':\n",
        "    time.sleep(1)\n",
        "    tablero2.dibujar(x)\n",
        "    break\n",
        "  contador2 += 1\n",
        "  time.sleep(0.35)\n",
        "\n",
        "print(\"La ruta hallada por UCS tiene un coste de: \", ruta2)"
      ],
      "metadata": {
        "colab": {
          "base_uri": "https://localhost:8080/",
          "height": 318,
          "referenced_widgets": [
            "4659ed8932034a26a20c98b9275fe4b5",
            "2d646f63e3864141bf807c5865f3d560",
            "ae5829a8d46a443ba9780d0c89afe380"
          ]
        },
        "id": "sdNsQe01icpm",
        "outputId": "4b108d2d-8024-47c3-df13-a114defe4073"
      },
      "execution_count": 6,
      "outputs": [
        {
          "output_type": "display_data",
          "data": {
            "text/plain": [
              "HTML(value='')"
            ],
            "application/vnd.jupyter.widget-view+json": {
              "version_major": 2,
              "version_minor": 0,
              "model_id": "4659ed8932034a26a20c98b9275fe4b5"
            }
          },
          "metadata": {}
        },
        {
          "output_type": "stream",
          "name": "stdout",
          "text": [
            "La ruta hallada por UCS tiene un coste de:  6\n"
          ]
        }
      ]
    },
    {
      "cell_type": "code",
      "source": [
        "# Resuelve el laberinto utilizando DFS\n",
        "class SolucionLaberinto3:\n",
        "   def encuentraDistancia3(self, matriz, inicio):\n",
        "        #Inicializa variables para llamar a la función  laberinto DFS\n",
        "        self.ruta = math.inf # Inicia el costo de la ruta desde infinito\n",
        "        self.visitados = defaultdict(lambda: False) # Genera un arreglo con los lugares sin visitar\n",
        "        self.matriz = matriz\n",
        "        self.filas = len(matriz)\n",
        "        self.columnas = len(matriz[0])\n",
        "        self.laberintoAEstrella(inicio[0],inicio[1],0)\n",
        "        return self.visitados, self.ruta # Devuelve en una tupla la lista de visitados\n",
        "\n",
        "   def laberintoAEstrella(self, i, j, pasos):\n",
        "        if i<0 or j<0 or i>=self.filas or j>=self.columnas: # Verifica que esté en el rango\n",
        "            return\n",
        "        elif self.matriz[i][j] == '1': # Esquiva el obstáculo\n",
        "            return\n",
        "        elif self.matriz[i][j] == '2': # Llega a la meta\n",
        "            self.ruta = min(self.ruta,pasos)\n",
        "            self.visitados[(i,j)]\n",
        "            return True\n",
        "        elif self.visitados[(i,j)]: # Verifica que ya haya sido visitado\n",
        "            return\n",
        "\n",
        "        self.visitados[(i,j)] = True #Marca el visitado\n",
        "\n",
        "        # Emplea la recursividad\n",
        "        self.laberintoAEstrella(i-1,j-1,pasos+1)\n",
        "        self.laberintoAEstrella(i-1,j,pasos+1)\n",
        "        self.laberintoAEstrella(i,j-1,pasos+1)\n",
        "        self.laberintoAEstrella(i-1,j,pasos+1)\n",
        "        self.laberintoAEstrella(i,j-1,pasos+1)\n",
        "        self.laberintoAEstrella(i,j+1,pasos+1)\n",
        "        self.laberintoAEstrella(i+1,j,pasos+1)\n",
        "\n",
        "        return"
      ],
      "metadata": {
        "id": "oP2H8OnptxFK"
      },
      "execution_count": 7,
      "outputs": []
    },
    {
      "cell_type": "code",
      "source": [
        "# Desde un archivo en GITHUB recibe el contenido del laberinto\n",
        "url = \"https://raw.githubusercontent.com/juancarlostarazona/laberintoLab4/main/laberinto.txt\"\n",
        "page = requests.get(url)\n",
        "lineas = []\n",
        "\n",
        "# Genera un archivo txt temporal\n",
        "with open (\"/media/ArchivoLaberinto.txt\", \"w\") as file:\n",
        "  file.write(page.text)\n",
        "\n",
        "# Lee y le da valores al arreglo lineas\n",
        "with open (\"/media/ArchivoLaberinto.txt\") as file:\n",
        "  columna = []\n",
        "  for f in file:\n",
        "    for x in f:\n",
        "     if x == \"\\n\":\n",
        "       lineas.append(columna)\n",
        "       columna = []\n",
        "       continue\n",
        "     if x != \" \":\n",
        "       columna.append(x)\n",
        "\n",
        "# Crea una instancia tablero con la configuración inicial y una solucion\n",
        "tablero3 = Laberinto(filas = lineas)\n",
        "sol3 = SolucionLaberinto3()\n",
        "# Recibe el resultado de la solucion del laberinto\n",
        "visitado3, ruta3 = sol3.encuentraDistancia3(lineas,(5,5))\n",
        "\n",
        "# Imprime los visitados hasta llegar a la meta\n",
        "contador3 = 0\n",
        "\n",
        "for x in visitado3:\n",
        "  tablero3.dibujar(x)\n",
        "  if lineas[x[0]][x[1]] == '2':\n",
        "    time.sleep(1)\n",
        "    tablero3.dibujar(x)\n",
        "    break\n",
        "  contador3 += 1\n",
        "  time.sleep(0.35)\n",
        "\n",
        "print(\"La ruta hallada por UCS tiene un coste de: \", ruta2)"
      ],
      "metadata": {
        "colab": {
          "base_uri": "https://localhost:8080/",
          "height": 318,
          "referenced_widgets": [
            "d1113ceae2a14ff4808daf364f8d90fb",
            "0aa6837019e2440888d7d986c4ffdc93",
            "df3f9c2cba654abca7fb7cbc64431143"
          ]
        },
        "id": "knSw9F80ueW7",
        "outputId": "f5f4dab8-472b-4313-cd16-eea708a64349"
      },
      "execution_count": 8,
      "outputs": [
        {
          "output_type": "display_data",
          "data": {
            "text/plain": [
              "HTML(value='')"
            ],
            "application/vnd.jupyter.widget-view+json": {
              "version_major": 2,
              "version_minor": 0,
              "model_id": "d1113ceae2a14ff4808daf364f8d90fb"
            }
          },
          "metadata": {}
        },
        {
          "output_type": "stream",
          "name": "stdout",
          "text": [
            "La ruta hallada por UCS tiene un coste de:  6\n"
          ]
        }
      ]
    }
  ]
}